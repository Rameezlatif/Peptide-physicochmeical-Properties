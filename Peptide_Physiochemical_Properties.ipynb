{
  "nbformat": 4,
  "nbformat_minor": 0,
  "metadata": {
    "colab": {
      "provenance": []
    },
    "kernelspec": {
      "name": "python3",
      "display_name": "Python 3"
    },
    "language_info": {
      "name": "python"
    }
  },
  "cells": [
    {
      "cell_type": "code",
      "execution_count": 1,
      "metadata": {
        "colab": {
          "base_uri": "https://localhost:8080/"
        },
        "id": "3R0XPaznZgGa",
        "outputId": "bc4b145a-81af-4f84-c5ba-9d0c19bd2a75"
      },
      "outputs": [
        {
          "output_type": "stream",
          "name": "stdout",
          "text": [
            "Collecting biopython\n",
            "  Downloading biopython-1.82-cp310-cp310-manylinux_2_17_x86_64.manylinux2014_x86_64.whl (3.1 MB)\n",
            "\u001b[2K     \u001b[90m━━━━━━━━━━━━━━━━━━━━━━━━━━━━━━━━━━━━━━━━\u001b[0m \u001b[32m3.1/3.1 MB\u001b[0m \u001b[31m9.3 MB/s\u001b[0m eta \u001b[36m0:00:00\u001b[0m\n",
            "\u001b[?25hRequirement already satisfied: numpy in /usr/local/lib/python3.10/dist-packages (from biopython) (1.23.5)\n",
            "Installing collected packages: biopython\n",
            "Successfully installed biopython-1.82\n"
          ]
        }
      ],
      "source": [
        "pip install biopython"
      ]
    },
    {
      "cell_type": "code",
      "source": [
        "from Bio.SeqUtils import ProtParam\n",
        "\n",
        "def calculate_physicochemical_properties(sequence):\n",
        "    # Calculate physicochemical properties using ProtParam\n",
        "    protein = ProtParam.ProteinAnalysis(sequence)\n",
        "    return {\n",
        "        \"molecular_weight\": protein.molecular_weight(),\n",
        "        \"isoelectric_point\": protein.isoelectric_point(),\n",
        "        \"instability_index\": protein.instability_index(),\n",
        "        \"aromaticity\": protein.aromaticity(),\n",
        "        \"flexibility\": protein.flexibility() if protein.flexibility() else None,\n",
        "        # Add more properties as needed\n",
        "    }\n",
        "\n",
        "def get_property_explanation(property_name):\n",
        "    # Provide explanations for each physicochemical property\n",
        "    explanations = {\n",
        "        \"molecular_weight\": \"Molecular Weight (Da)\",\n",
        "        \"isoelectric_point\": \"Isoelectric Point\",\n",
        "        \"instability_index\": \"Instability Index\",\n",
        "        \"aromaticity\": \"Aromaticity\",\n",
        "        \"flexibility\": \"Flexibility (N/A if not available)\",\n",
        "        # Add more explanations as needed\n",
        "    }\n",
        "    return explanations.get(property_name, \"Explanation not available\")\n",
        "\n",
        "def calculate_similarity_percentage(properties_peptide1, properties_peptide2):\n",
        "    # Compare properties and generate a similarity score\n",
        "    similarity_score = 0.0\n",
        "    num_properties = 0  # Initialize the count\n",
        "    for property_name in properties_peptide1.keys():\n",
        "        value_peptide1 = properties_peptide1[property_name]\n",
        "        value_peptide2 = properties_peptide2[property_name]\n",
        "\n",
        "        if value_peptide1 is not None and value_peptide2 is not None:\n",
        "            min_value = min(value_peptide1, value_peptide2)\n",
        "            max_value = max(value_peptide1, value_peptide2)\n",
        "\n",
        "            # Check for division by zero\n",
        "            if max_value != 0:\n",
        "                similarity_score += min_value / max_value\n",
        "                num_properties += 1  # Increment the count\n",
        "\n",
        "    # Normalize the similarity score\n",
        "    if num_properties != 0:\n",
        "        similarity_percentage = (similarity_score / num_properties) * 100\n",
        "    else:\n",
        "        similarity_percentage = 0.0\n",
        "\n",
        "    return similarity_percentage\n",
        "\n",
        "def main():\n",
        "    # Replace 'peptide1_sequence' and 'peptide2_sequence' with actual peptide sequences\n",
        "    peptide1_sequence = \"RKIPTEDEY\"\n",
        "    peptide2_sequence = \"EYIPVEIKL\"\n",
        "\n",
        "    # Calculate physicochemical properties for each peptide\n",
        "    properties_peptide1 = calculate_physicochemical_properties(peptide1_sequence)\n",
        "    properties_peptide2 = calculate_physicochemical_properties(peptide2_sequence)\n",
        "\n",
        "    # Calculate similarity percentage\n",
        "    similarity_percentage = calculate_similarity_percentage(properties_peptide1, properties_peptide2)\n",
        "\n",
        "    # Print the raw properties and explanations for each peptide\n",
        "    print(\"Properties for Peptide 1:\")\n",
        "    for key, value in properties_peptide1.items():\n",
        "        explanation = get_property_explanation(key)\n",
        "        print(f\"{explanation}: {value}\")\n",
        "\n",
        "    print(\"\\nProperties for Peptide 2:\")\n",
        "    for key, value in properties_peptide2.items():\n",
        "        explanation = get_property_explanation(key)\n",
        "        print(f\"{explanation}: {value}\")\n",
        "\n",
        "    # Print similarity percentage\n",
        "    print(f\"\\nSimilarity Percentage: {similarity_percentage:.2f}%\")\n",
        "\n",
        "if __name__ == \"__main__\":\n",
        "    main()\n"
      ],
      "metadata": {
        "colab": {
          "base_uri": "https://localhost:8080/"
        },
        "id": "84LoSAFdjo-Y",
        "outputId": "6ca475ca-49a3-42c5-dbc2-9bf99578a0fc"
      },
      "execution_count": 14,
      "outputs": [
        {
          "output_type": "stream",
          "name": "stdout",
          "text": [
            "Properties for Peptide 1:\n",
            "Molecular Weight (Da): 1150.2386\n",
            "Isoelectric Point: 4.679122352600097\n",
            "Instability Index: 39.055555555555564\n",
            "Aromaticity: 0.1111111111111111\n",
            "Flexibility (N/A if not available): None\n",
            "\n",
            "Properties for Peptide 2:\n",
            "Molecular Weight (Da): 1103.3078\n",
            "Isoelectric Point: 4.531682014465332\n",
            "Instability Index: 29.62222222222222\n",
            "Aromaticity: 0.1111111111111111\n",
            "Flexibility (N/A if not available): None\n",
            "\n",
            "Similarity Percentage: 92.15%\n"
          ]
        }
      ]
    }
  ]
}